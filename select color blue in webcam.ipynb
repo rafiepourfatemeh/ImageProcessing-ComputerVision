{
 "cells": [
  {
   "cell_type": "code",
   "execution_count": 8,
   "id": "cb8368ba",
   "metadata": {},
   "outputs": [],
   "source": [
    "import numpy as np\n",
    "import cv2\n",
    "import matplotlib.pyplot as plt\n",
    "cap=cv2.VideoCapture(0)\n",
    "while True:\n",
    "    ret,frame=cap.read()\n",
    "    if not ret:\n",
    "        break\n",
    "    hsv=cv2.cvtColor(frame,cv2.COLOR_BGR2HSV)\n",
    "    lower_blue=np.array([100,50,50])\n",
    "    upper_blue=np.array([130,255,255])\n",
    "    mask=cv2.inRange(hsv,lower_blue,upper_blue)\n",
    "    res=cv2.bitwise_and(frame,frame,mask=mask)\n",
    "    cv2.imshow(\"farme\",frame)\n",
    "    cv2.imshow(\"mask\",mask)\n",
    "    cv2.imshow(\"res\",res)\n",
    "    k=cv2.waitKey(5)&0xff\n",
    "    if k==27:\n",
    "        break\n",
    "cap.release()\n",
    "cv2.destroyAllWindows()\n"
   ]
  },
  {
   "cell_type": "code",
   "execution_count": null,
   "id": "f4da8efa",
   "metadata": {},
   "outputs": [],
   "source": []
  }
 ],
 "metadata": {
  "kernelspec": {
   "display_name": "Python 3",
   "language": "python",
   "name": "python3"
  },
  "language_info": {
   "codemirror_mode": {
    "name": "ipython",
    "version": 3
   },
   "file_extension": ".py",
   "mimetype": "text/x-python",
   "name": "python",
   "nbconvert_exporter": "python",
   "pygments_lexer": "ipython3",
   "version": "3.8.8"
  }
 },
 "nbformat": 4,
 "nbformat_minor": 5
}
