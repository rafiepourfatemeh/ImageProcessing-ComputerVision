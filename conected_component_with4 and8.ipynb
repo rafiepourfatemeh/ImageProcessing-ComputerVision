{
 "cells": [
  {
   "cell_type": "code",
   "execution_count": 1,
   "id": "50ed3fb4",
   "metadata": {},
   "outputs": [],
   "source": [
    "import cv2\n",
    "import numpy as np \n",
    "import matplotlib.pyplot as plt"
   ]
  },
  {
   "cell_type": "code",
   "execution_count": 2,
   "id": "3676ac53",
   "metadata": {},
   "outputs": [
    {
     "data": {
      "text/plain": [
       "array([[0, 0, 0, ..., 0, 0, 0],\n",
       "       [0, 0, 0, ..., 0, 0, 0],\n",
       "       [0, 0, 0, ..., 0, 0, 0],\n",
       "       ...,\n",
       "       [0, 0, 0, ..., 0, 0, 0],\n",
       "       [0, 0, 0, ..., 0, 0, 0],\n",
       "       [0, 0, 0, ..., 0, 0, 0]], dtype=uint8)"
      ]
     },
     "execution_count": 2,
     "metadata": {},
     "output_type": "execute_result"
    }
   ],
   "source": [
    "image=cv2.imread(r\"C:\\\\Users\\Student\\Desktop\\pic04\\shapes.png\",0)\n",
    "image"
   ]
  },
  {
   "cell_type": "code",
   "execution_count": 3,
   "id": "8eb63274",
   "metadata": {},
   "outputs": [],
   "source": [
    "_,img=cv2.threshold(image,127,255,cv2.THRESH_BINARY)"
   ]
  },
  {
   "cell_type": "code",
   "execution_count": 4,
   "id": "640d9d0a",
   "metadata": {},
   "outputs": [
    {
     "data": {
      "text/plain": [
       "127.0"
      ]
     },
     "execution_count": 4,
     "metadata": {},
     "output_type": "execute_result"
    }
   ],
   "source": [
    "_"
   ]
  },
  {
   "cell_type": "code",
   "execution_count": 5,
   "id": "a083702f",
   "metadata": {},
   "outputs": [
    {
     "data": {
      "text/plain": [
       "array([[0, 0, 0, ..., 0, 0, 0],\n",
       "       [0, 0, 0, ..., 0, 0, 0],\n",
       "       [0, 0, 0, ..., 0, 0, 0],\n",
       "       ...,\n",
       "       [0, 0, 0, ..., 0, 0, 0],\n",
       "       [0, 0, 0, ..., 0, 0, 0],\n",
       "       [0, 0, 0, ..., 0, 0, 0]], dtype=uint8)"
      ]
     },
     "execution_count": 5,
     "metadata": {},
     "output_type": "execute_result"
    }
   ],
   "source": [
    "img"
   ]
  },
  {
   "cell_type": "code",
   "execution_count": 6,
   "id": "0e2c324f",
   "metadata": {},
   "outputs": [
    {
     "data": {
      "text/plain": [
       "7"
      ]
     },
     "execution_count": 6,
     "metadata": {},
     "output_type": "execute_result"
    }
   ],
   "source": [
    "num_lables,labels=cv2.connectedComponents(img)\n",
    "num_lables"
   ]
  },
  {
   "cell_type": "code",
   "execution_count": 7,
   "id": "032aa0aa",
   "metadata": {},
   "outputs": [
    {
     "data": {
      "text/plain": [
       "array([[0, 0, 0, ..., 0, 0, 0],\n",
       "       [0, 0, 0, ..., 0, 0, 0],\n",
       "       [0, 0, 0, ..., 0, 0, 0],\n",
       "       ...,\n",
       "       [0, 0, 0, ..., 0, 0, 0],\n",
       "       [0, 0, 0, ..., 0, 0, 0],\n",
       "       [0, 0, 0, ..., 0, 0, 0]], dtype=int32)"
      ]
     },
     "execution_count": 7,
     "metadata": {},
     "output_type": "execute_result"
    }
   ],
   "source": [
    "labels"
   ]
  },
  {
   "cell_type": "code",
   "execution_count": 8,
   "id": "3bdff9cd",
   "metadata": {},
   "outputs": [],
   "source": [
    "label_hue=np.uint8(179*labels/np.max(labels))\n",
    "blank=np.ones_like(img)*255\n",
    "labeled_img=cv2.merge([label_hue,blank,blank])\n",
    "labeled_img=cv2.cvtColor(labeled_img,cv2.COLOR_HSV2BGR)\n",
    "labeled_img[label_hue==0]=0"
   ]
  },
  {
   "cell_type": "code",
   "execution_count": 9,
   "id": "8ccd6bee",
   "metadata": {
    "scrolled": true
   },
   "outputs": [
    {
     "data": {
      "image/png": "[encoded data removed]",
      "text/plain": [
       "<Figure size 720x576 with 2 Axes>"
      ]
     },
     "metadata": {
      "needs_background": "light"
     },
     "output_type": "display_data"
    }
   ],
   "source": [
    "plt.figure(figsize=[10,8])\n",
    "plt.subplot(121);plt.imshow(img,cmap=\"gray\");plt.title(\"orginal\");\n",
    "plt.subplot(122);plt.imshow(labeled_img,cmap=\"gray\");plt.title(\"labeled_img\");"
   ]
  },
  {
   "cell_type": "code",
   "execution_count": 10,
   "id": "ebc865bd",
   "metadata": {},
   "outputs": [],
   "source": [
    "image=cv2.imread(r\"C:\\\\Users\\Student\\Desktop\\pic04\\small-connected-test.png\",0)\n"
   ]
  },
  {
   "cell_type": "code",
   "execution_count": 11,
   "id": "a48e8246",
   "metadata": {},
   "outputs": [],
   "source": [
    "_,img=cv2.threshold(image,127,255,cv2.THRESH_BINARY)"
   ]
  },
  {
   "cell_type": "code",
   "execution_count": 12,
   "id": "fa53781f",
   "metadata": {},
   "outputs": [],
   "source": [
    "num4,labels_with_4connectivity=cv2.connectedComponents(img,connectivity=4)\n",
    "num8,labels_with_8connectivity=cv2.connectedComponents(img,connectivity=8)\n"
   ]
  },
  {
   "cell_type": "code",
   "execution_count": 13,
   "id": "c59970a6",
   "metadata": {},
   "outputs": [
    {
     "data": {
      "text/plain": [
       "4"
      ]
     },
     "execution_count": 13,
     "metadata": {},
     "output_type": "execute_result"
    }
   ],
   "source": [
    "num4"
   ]
  },
  {
   "cell_type": "code",
   "execution_count": 14,
   "id": "72ff5b97",
   "metadata": {},
   "outputs": [
    {
     "data": {
      "text/plain": [
       "2"
      ]
     },
     "execution_count": 14,
     "metadata": {},
     "output_type": "execute_result"
    }
   ],
   "source": [
    "num8"
   ]
  },
  {
   "cell_type": "code",
   "execution_count": 15,
   "id": "2e62ab63",
   "metadata": {},
   "outputs": [],
   "source": [
    "label_hue4=np.uint8(179*labels_with_4connectivity/np.max(labels_with_4connectivity))\n",
    "blank=np.ones_like(img)*255\n",
    "labeled_img4=cv2.merge([label_hue4,blank,blank])\n",
    "labeled_img4=cv2.cvtColor(labeled_img4,cv2.COLOR_HSV2BGR)\n",
    "labeled_img4[label_hue4==0]=0"
   ]
  },
  {
   "cell_type": "code",
   "execution_count": 16,
   "id": "c513b9e2",
   "metadata": {},
   "outputs": [],
   "source": [
    "label_hue8=np.uint8(179*labels_with_8connectivity/np.max(labels_with_8connectivity))\n",
    "blank=np.ones_like(img)*255\n",
    "labeled_img8=cv2.merge([label_hue8,blank,blank])\n",
    "labeled_img8=cv2.cvtColor(labeled_img8,cv2.COLOR_HSV2BGR)\n",
    "labeled_img8[label_hue8==0]=0"
   ]
  },
  {
   "cell_type": "code",
   "execution_count": 17,
   "id": "5ca47a64",
   "metadata": {},
   "outputs": [
    {
     "data": {
      "image/png": "[encoded data removed]",
      "text/plain": [
       "<Figure size 720x576 with 3 Axes>"
      ]
     },
     "metadata": {
      "needs_background": "light"
     },
     "output_type": "display_data"
    }
   ],
   "source": [
    "plt.figure(figsize=[10,8])\n",
    "plt.subplot(131);plt.imshow(img,cmap=\"gray\");plt.title(\"orginal\");\n",
    "plt.subplot(132);plt.imshow(labeled_img4,cmap=\"gray\");plt.title(\"labeled_img4\");\n",
    "plt.subplot(133);plt.imshow(labeled_img8,cmap=\"gray\");plt.title(\"labeled_img8\");\n",
    "plt.show()"
   ]
  },
  {
   "cell_type": "code",
   "execution_count": null,
   "id": "faf78e41",
   "metadata": {},
   "outputs": [],
   "source": []
  }
 ],
 "metadata": {
  "kernelspec": {
   "display_name": "Python 3",
   "language": "python",
   "name": "python3"
  },
  "language_info": {
   "codemirror_mode": {
    "name": "ipython",
    "version": 3
   },
   "file_extension": ".py",
   "mimetype": "text/x-python",
   "name": "python",
   "nbconvert_exporter": "python",
   "pygments_lexer": "ipython3",
   "version": "3.8.8"
  }
 },
 "nbformat": 4,
 "nbformat_minor": 5
}
