{
 "cells": [
  {
   "cell_type": "code",
   "execution_count": 1,
   "id": "a4437961",
   "metadata": {},
   "outputs": [],
   "source": [
    "import numpy as np\n",
    "import cv2\n",
    "import matplotlib.pyplot as plt"
   ]
  },
  {
   "cell_type": "code",
   "execution_count": 2,
   "id": "40a88b03",
   "metadata": {},
   "outputs": [
    {
     "data": {
      "image/png": "[encoded data removed]",
      "text/plain": [
       "<Figure size 432x288 with 1 Axes>"
      ]
     },
     "metadata": {
      "needs_background": "light"
     },
     "output_type": "display_data"
    }
   ],
   "source": [
    "x=np.linspace(0,179,dtype=\"uint8\",num=180)\n",
    "img=np.array([x]*50)\n",
    "s=np.ones_like(img,dtype=\"uint8\")*255\n",
    "v=np.ones_like(img,dtype=\"uint8\")*255\n",
    "hsv=cv2.merge([img,s,v])\n",
    "final=cv2.cvtColor(hsv,cv2.COLOR_HSV2BGR)\n",
    "plt.imshow(final[...,::-1])\n",
    "plt.show()"
   ]
  },
  {
   "cell_type": "code",
   "execution_count": 17,
   "id": "bfd7597c",
   "metadata": {},
   "outputs": [],
   "source": [
    "cap1=cv2.VideoCapture(r\"C:\\\\Users\\Student\\Desktop\\pic05\\001.mp4\")\n",
    "while True:\n",
    "    ret,frame=cap1.read()\n",
    "    if not ret:\n",
    "        break\n",
    "    hsv=cv2.cvtColor(frame,cv2.COLOR_BGR2HSV)\n",
    "    lower_blue=np.array([100,50,50])\n",
    "    upper_blue=np.array([130,255,255])\n",
    "    mask=cv2.inRange(hsv,lower_blue,upper_blue)\n",
    "    res=cv2.bitwise_and(frame,frame,mask=mask)\n",
    "    cv2.imshow(\"farme\",frame)\n",
    "    cv2.imshow(\"mask\",mask)\n",
    "    cv2.imshow(\"res\",res)\n",
    "    k=cv2.waitKey(5)&0xff\n",
    "    if k==27:\n",
    "        break\n",
    "cv2.destroyAllWindows()\n",
    "cap1.release()"
   ]
  },
  {
   "cell_type": "code",
   "execution_count": 15,
   "id": "0fed49a2",
   "metadata": {},
   "outputs": [],
   "source": [
    "import numpy as np\n",
    "import cv2\n",
    "import matplotlib.pyplot as plt\n",
    "cap=cv2.VideoCapture(0)\n",
    "while True:\n",
    "    ret,frame=cap.read()\n",
    "    if not ret:\n",
    "        break\n",
    "    hsv=cv2.cvtColor(frame,cv2.COLOR_BGR2HSV)\n",
    "    lower_blue=np.array([100,50,50])\n",
    "    upper_blue=np.array([130,255,255])\n",
    "    mask=cv2.inRange(hsv,lower_blue,upper_blue)\n",
    "    res=cv2.bitwise_and(frame,frame,mask=mask)\n",
    "    cv2.imshow(\"farme\",frame)\n",
    "    cv2.imshow(\"mask\",mask)\n",
    "    cv2.imshow(\"res\",res)\n",
    "    k=cv2.waitKey(5)&0xff\n",
    "    if k==27:\n",
    "        break\n",
    "cap.release()\n",
    "cv2.destroyAllWindows()"
   ]
  },
  {
   "cell_type": "code",
   "execution_count": 25,
   "id": "6f41477c",
   "metadata": {},
   "outputs": [],
   "source": [
    "cap1=cv2.VideoCapture(r\"C:\\\\Users\\Student\\Desktop\\pic05\\001.mp4\")\n",
    "while True:\n",
    "    ret,frame=cap1.read()\n",
    "    if not ret:\n",
    "        break\n",
    "    frame=cv2.resize(frame,(300,300))\n",
    "    hsv=cv2.cvtColor(frame,cv2.COLOR_BGR2HSV)\n",
    "    lower_blue=np.array([100,50,50])\n",
    "    upper_blue=np.array([130,255,255])\n",
    "    mask=cv2.inRange(hsv,lower_blue,upper_blue)\n",
    "    contours,_=cv2.findContours(mask,cv2.RETR_TREE,cv2.CHAIN_APPROX_SIMPLE)\n",
    "    \n",
    "    centers,radius=cv2.minEnclosingCircle(contours[0])\n",
    "    radius=int(radius)\n",
    "    centers=(int(centers[0]),int(centers[1]))\n",
    "    cv2.circle(frame,centers,radius,(0,255,255),2)\n",
    "    \n",
    "    cv2.imshow(\"farme\",frame)\n",
    "\n",
    "    k=cv2.waitKey(5)&0xff\n",
    "    if k==27:\n",
    "        break\n",
    "cv2.destroyAllWindows()\n",
    "cap1.release()"
   ]
  },
  {
   "cell_type": "code",
   "execution_count": null,
   "id": "e505259d",
   "metadata": {},
   "outputs": [],
   "source": []
  }
 ],
 "metadata": {
  "kernelspec": {
   "display_name": "Python 3",
   "language": "python",
   "name": "python3"
  },
  "language_info": {
   "codemirror_mode": {
    "name": "ipython",
    "version": 3
   },
   "file_extension": ".py",
   "mimetype": "text/x-python",
   "name": "python",
   "nbconvert_exporter": "python",
   "pygments_lexer": "ipython3",
   "version": "3.8.8"
  }
 },
 "nbformat": 4,
 "nbformat_minor": 5
}
